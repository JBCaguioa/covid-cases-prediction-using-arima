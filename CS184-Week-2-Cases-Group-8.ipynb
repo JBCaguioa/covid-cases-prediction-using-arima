{
 "cells": [
  {
   "cell_type": "markdown",
   "id": "vietnamese-brick",
   "metadata": {},
   "source": [
    "# Libraries"
   ]
  },
  {
   "cell_type": "code",
   "execution_count": 1,
   "id": "imported-stadium",
   "metadata": {},
   "outputs": [],
   "source": [
    "import pandas as pd\n",
    "import matplotlib.pyplot as plt\n",
    "import statsmodels.api as sm\n",
    "import numpy as np\n",
    "\n",
    "from pandas.tseries.offsets import DateOffset\n",
    "\n",
    "from statsmodels.tsa.stattools import adfuller\n",
    "from statsmodels.tsa.arima_model import ARIMA\n",
    "from statsmodels.graphics.tsaplots import plot_acf,plot_pacf\n",
    "\n",
    "import warnings\n",
    "warnings.filterwarnings(\"ignore\")"
   ]
  },
  {
   "cell_type": "markdown",
   "id": "exterior-robin",
   "metadata": {},
   "source": [
    "# Dataset"
   ]
  },
  {
   "cell_type": "code",
   "execution_count": 2,
   "id": "seven-ceremony",
   "metadata": {},
   "outputs": [
    {
     "data": {
      "text/html": [
       "<div>\n",
       "<style scoped>\n",
       "    .dataframe tbody tr th:only-of-type {\n",
       "        vertical-align: middle;\n",
       "    }\n",
       "\n",
       "    .dataframe tbody tr th {\n",
       "        vertical-align: top;\n",
       "    }\n",
       "\n",
       "    .dataframe thead th {\n",
       "        text-align: right;\n",
       "    }\n",
       "</style>\n",
       "<table border=\"1\" class=\"dataframe\">\n",
       "  <thead>\n",
       "    <tr style=\"text-align: right;\">\n",
       "      <th></th>\n",
       "      <th>country</th>\n",
       "      <th>date</th>\n",
       "      <th>total</th>\n",
       "    </tr>\n",
       "  </thead>\n",
       "  <tbody>\n",
       "    <tr>\n",
       "      <th>0</th>\n",
       "      <td>Afghanistan</td>\n",
       "      <td>2021-01-01</td>\n",
       "      <td>51526</td>\n",
       "    </tr>\n",
       "    <tr>\n",
       "      <th>1</th>\n",
       "      <td>Afghanistan</td>\n",
       "      <td>2021-01-10</td>\n",
       "      <td>53489</td>\n",
       "    </tr>\n",
       "    <tr>\n",
       "      <th>2</th>\n",
       "      <td>Afghanistan</td>\n",
       "      <td>2021-01-11</td>\n",
       "      <td>53538</td>\n",
       "    </tr>\n",
       "    <tr>\n",
       "      <th>3</th>\n",
       "      <td>Afghanistan</td>\n",
       "      <td>2021-01-12</td>\n",
       "      <td>53584</td>\n",
       "    </tr>\n",
       "    <tr>\n",
       "      <th>4</th>\n",
       "      <td>Afghanistan</td>\n",
       "      <td>2021-01-13</td>\n",
       "      <td>53584</td>\n",
       "    </tr>\n",
       "  </tbody>\n",
       "</table>\n",
       "</div>"
      ],
      "text/plain": [
       "       country        date  total\n",
       "0  Afghanistan  2021-01-01  51526\n",
       "1  Afghanistan  2021-01-10  53489\n",
       "2  Afghanistan  2021-01-11  53538\n",
       "3  Afghanistan  2021-01-12  53584\n",
       "4  Afghanistan  2021-01-13  53584"
      ]
     },
     "execution_count": 2,
     "metadata": {},
     "output_type": "execute_result"
    }
   ],
   "source": [
    "# read dataset\n",
    "df = pd.read_csv('confirmed_pivot.csv')\n",
    "df.head()"
   ]
  },
  {
   "cell_type": "code",
   "execution_count": 3,
   "id": "affiliated-muslim",
   "metadata": {},
   "outputs": [
    {
     "data": {
      "text/html": [
       "<div>\n",
       "<style scoped>\n",
       "    .dataframe tbody tr th:only-of-type {\n",
       "        vertical-align: middle;\n",
       "    }\n",
       "\n",
       "    .dataframe tbody tr th {\n",
       "        vertical-align: top;\n",
       "    }\n",
       "\n",
       "    .dataframe thead th {\n",
       "        text-align: right;\n",
       "    }\n",
       "</style>\n",
       "<table border=\"1\" class=\"dataframe\">\n",
       "  <thead>\n",
       "    <tr style=\"text-align: right;\">\n",
       "      <th></th>\n",
       "      <th>date</th>\n",
       "      <th>total</th>\n",
       "    </tr>\n",
       "  </thead>\n",
       "  <tbody>\n",
       "    <tr>\n",
       "      <th>64480</th>\n",
       "      <td>2021-01-01</td>\n",
       "      <td>58629</td>\n",
       "    </tr>\n",
       "    <tr>\n",
       "      <th>64481</th>\n",
       "      <td>2021-01-10</td>\n",
       "      <td>58907</td>\n",
       "    </tr>\n",
       "    <tr>\n",
       "      <th>64482</th>\n",
       "      <td>2021-01-11</td>\n",
       "      <td>58929</td>\n",
       "    </tr>\n",
       "    <tr>\n",
       "      <th>64483</th>\n",
       "      <td>2021-01-12</td>\n",
       "      <td>58946</td>\n",
       "    </tr>\n",
       "    <tr>\n",
       "      <th>64484</th>\n",
       "      <td>2021-01-13</td>\n",
       "      <td>58984</td>\n",
       "    </tr>\n",
       "  </tbody>\n",
       "</table>\n",
       "</div>"
      ],
      "text/plain": [
       "             date  total\n",
       "64480  2021-01-01  58629\n",
       "64481  2021-01-10  58907\n",
       "64482  2021-01-11  58929\n",
       "64483  2021-01-12  58946\n",
       "64484  2021-01-13  58984"
      ]
     },
     "execution_count": 3,
     "metadata": {},
     "output_type": "execute_result"
    }
   ],
   "source": [
    "# selecting datas only from Singapore\n",
    "mask = df.loc[df['country'] == 'Singapore']\n",
    "sg_dataset = pd.DataFrame(mask,columns=['date','total'])\n",
    "sg_dataset.head()"
   ]
  },
  {
   "cell_type": "code",
   "execution_count": 4,
   "id": "infrared-advancement",
   "metadata": {},
   "outputs": [
    {
     "data": {
      "text/plain": [
       "date     0\n",
       "total    0\n",
       "dtype: int64"
      ]
     },
     "execution_count": 4,
     "metadata": {},
     "output_type": "execute_result"
    }
   ],
   "source": [
    "# check for null values\n",
    "sg_dataset.isna().sum()"
   ]
  },
  {
   "cell_type": "code",
   "execution_count": 5,
   "id": "improving-connection",
   "metadata": {},
   "outputs": [
    {
     "data": {
      "text/plain": [
       "date     datetime64[ns]\n",
       "total             int64\n",
       "dtype: object"
      ]
     },
     "execution_count": 5,
     "metadata": {},
     "output_type": "execute_result"
    }
   ],
   "source": [
    "# convert date datatype to datetime\n",
    "sg_dataset['date']=pd.to_datetime(sg_dataset['date'])\n",
    "sg_dataset.dtypes"
   ]
  },
  {
   "cell_type": "code",
   "execution_count": 6,
   "id": "comparable-snowboard",
   "metadata": {},
   "outputs": [
    {
     "data": {
      "text/html": [
       "<div>\n",
       "<style scoped>\n",
       "    .dataframe tbody tr th:only-of-type {\n",
       "        vertical-align: middle;\n",
       "    }\n",
       "\n",
       "    .dataframe tbody tr th {\n",
       "        vertical-align: top;\n",
       "    }\n",
       "\n",
       "    .dataframe thead th {\n",
       "        text-align: right;\n",
       "    }\n",
       "</style>\n",
       "<table border=\"1\" class=\"dataframe\">\n",
       "  <thead>\n",
       "    <tr style=\"text-align: right;\">\n",
       "      <th></th>\n",
       "      <th>total</th>\n",
       "    </tr>\n",
       "    <tr>\n",
       "      <th>date</th>\n",
       "      <th></th>\n",
       "    </tr>\n",
       "  </thead>\n",
       "  <tbody>\n",
       "    <tr>\n",
       "      <th>2021-01-01</th>\n",
       "      <td>58629</td>\n",
       "    </tr>\n",
       "    <tr>\n",
       "      <th>2021-01-10</th>\n",
       "      <td>58907</td>\n",
       "    </tr>\n",
       "    <tr>\n",
       "      <th>2021-01-11</th>\n",
       "      <td>58929</td>\n",
       "    </tr>\n",
       "    <tr>\n",
       "      <th>2021-01-12</th>\n",
       "      <td>58946</td>\n",
       "    </tr>\n",
       "    <tr>\n",
       "      <th>2021-01-13</th>\n",
       "      <td>58984</td>\n",
       "    </tr>\n",
       "    <tr>\n",
       "      <th>...</th>\n",
       "      <td>...</td>\n",
       "    </tr>\n",
       "    <tr>\n",
       "      <th>2020-09-05</th>\n",
       "      <td>56982</td>\n",
       "    </tr>\n",
       "    <tr>\n",
       "      <th>2020-09-06</th>\n",
       "      <td>57022</td>\n",
       "    </tr>\n",
       "    <tr>\n",
       "      <th>2020-09-07</th>\n",
       "      <td>57044</td>\n",
       "    </tr>\n",
       "    <tr>\n",
       "      <th>2020-09-08</th>\n",
       "      <td>57091</td>\n",
       "    </tr>\n",
       "    <tr>\n",
       "      <th>2020-09-09</th>\n",
       "      <td>57166</td>\n",
       "    </tr>\n",
       "  </tbody>\n",
       "</table>\n",
       "<p>416 rows × 1 columns</p>\n",
       "</div>"
      ],
      "text/plain": [
       "            total\n",
       "date             \n",
       "2021-01-01  58629\n",
       "2021-01-10  58907\n",
       "2021-01-11  58929\n",
       "2021-01-12  58946\n",
       "2021-01-13  58984\n",
       "...           ...\n",
       "2020-09-05  56982\n",
       "2020-09-06  57022\n",
       "2020-09-07  57044\n",
       "2020-09-08  57091\n",
       "2020-09-09  57166\n",
       "\n",
       "[416 rows x 1 columns]"
      ]
     },
     "execution_count": 6,
     "metadata": {},
     "output_type": "execute_result"
    }
   ],
   "source": [
    "# set converting the dataset to monthly frequency\n",
    "sg_dataset.set_index('date',inplace=True)\n",
    "sg_dataset"
   ]
  },
  {
   "cell_type": "code",
   "execution_count": 7,
   "id": "white-collector",
   "metadata": {},
   "outputs": [
    {
     "name": "stdout",
     "output_type": "stream",
     "text": [
      "Weekly:\n",
      "               total\n",
      "date               \n",
      "2020-01-26      4.0\n",
      "2020-02-02     18.0\n",
      "2020-02-09     40.0\n",
      "2020-02-16     75.0\n",
      "2020-02-23     89.0\n",
      "2020-03-01    106.0\n",
      "2020-03-08    150.0\n",
      "2020-03-15    226.0\n",
      "2020-03-22    455.0\n",
      "2020-03-29    844.0\n",
      "2020-04-05   1309.0\n",
      "2020-04-12   2532.0\n",
      "2020-04-19   6588.0\n",
      "2020-04-26  13624.0\n",
      "2020-05-03  18205.0\n",
      "2020-05-10  23336.0\n",
      "2020-05-17  28038.0\n",
      "2020-05-24  31616.0\n",
      "2020-05-31  34884.0\n",
      "2020-06-07  37910.0\n",
      "2020-06-14  40604.0\n",
      "2020-06-21  42095.0\n",
      "2020-06-28  43459.0\n",
      "2020-07-05  44800.0\n",
      "2020-07-12  45961.0\n",
      "2020-07-19  47912.0\n",
      "2020-07-26  50369.0\n",
      "2020-08-02  52825.0\n",
      "2020-08-09  55104.0\n",
      "2020-08-16  55747.0\n",
      "2020-08-23  56353.0\n",
      "2020-08-30  56771.0\n",
      "2020-09-06  57022.0\n",
      "2020-09-13  57406.0\n",
      "2020-09-20  57576.0\n",
      "2020-09-27  57700.0\n",
      "2020-10-04  57812.0\n",
      "2020-10-11  57876.0\n",
      "2020-10-18  57911.0\n",
      "2020-10-25  57970.0\n",
      "2020-11-01  58019.0\n",
      "2020-11-08  58056.0\n",
      "2020-11-15  58119.0\n",
      "2020-11-22  58160.0\n",
      "2020-11-29  58213.0\n",
      "2020-12-06  58260.0\n",
      "2020-12-13  58320.0\n",
      "2020-12-20  58422.0\n",
      "2020-12-27  58524.0\n",
      "2021-01-03  58697.0\n",
      "2021-01-10  58907.0\n",
      "2021-01-17  59113.0\n",
      "2021-01-24  59308.0\n",
      "2021-01-31  59536.0\n",
      "2021-02-07  59699.0\n",
      "2021-02-14  59800.0\n",
      "2021-02-21  59869.0\n",
      "2021-02-28  59936.0\n",
      "2021-03-07  60033.0\n",
      "2021-03-14  60033.0\n",
      "Monthly:\n",
      "               total\n",
      "date               \n",
      "2020-01-01      0.0\n",
      "2020-02-01     16.0\n",
      "2020-03-01    106.0\n",
      "2020-04-01   1000.0\n",
      "2020-05-01  17101.0\n",
      "2020-06-01  35292.0\n",
      "2020-07-01  44122.0\n",
      "2020-08-01  52512.0\n",
      "2020-09-01  56852.0\n",
      "2020-10-01  57784.0\n",
      "2020-11-01  58019.0\n",
      "2020-12-01  58228.0\n",
      "2021-01-01  58629.0\n",
      "2021-02-01  59565.0\n",
      "2021-03-01  59948.0\n"
     ]
    }
   ],
   "source": [
    "sg_dataW = sg_dataset['total'].resample('W').interpolate().to_frame()\n",
    "sg_dataW = sg_dataW.fillna(0)\n",
    "print(\"Weekly:\\n\",sg_dataW)\n",
    "\n",
    "sg_dataMS = sg_dataset['total'].resample('MS').interpolate().to_frame()\n",
    "sg_dataMS = sg_dataMS.fillna(0)\n",
    "print(\"Monthly:\\n\",sg_dataMS)"
   ]
  },
  {
   "cell_type": "code",
   "execution_count": 8,
   "id": "grand-connection",
   "metadata": {},
   "outputs": [
    {
     "data": {
      "image/png": "[encoded data removed]",
      "text/plain": [
       "<Figure size 1080x432 with 1 Axes>"
      ]
     },
     "metadata": {
      "needs_background": "light"
     },
     "output_type": "display_data"
    }
   ],
   "source": [
    "sg_dataW.plot(figsize=(15, 6))\n",
    "plt.title(\"Weekly\")\n",
    "plt.show()"
   ]
  },
  {
   "cell_type": "code",
   "execution_count": 9,
   "id": "prepared-malta",
   "metadata": {},
   "outputs": [
    {
     "data": {
      "image/png": "[encoded data removed]",
      "text/plain": [
       "<Figure size 1080x432 with 1 Axes>"
      ]
     },
     "metadata": {
      "needs_background": "light"
     },
     "output_type": "display_data"
    }
   ],
   "source": [
    "sg_dataMS.plot(figsize=(15, 6))\n",
    "plt.title(\"Monthly\")\n",
    "plt.show()"
   ]
  },
  {
   "cell_type": "markdown",
   "id": "moral-airport",
   "metadata": {},
   "source": [
    "# ARIMA"
   ]
  },
  {
   "cell_type": "code",
   "execution_count": 10,
   "id": "weighted-graduate",
   "metadata": {},
   "outputs": [],
   "source": [
    "# function in order to determine if it is stationary or non stationary where Ho means non stationary and H1 means stationary\n",
    "\n",
    "def adfuller_test(data):\n",
    "    result=adfuller(data)\n",
    "    labels = ['ADF Test Statistic','p-value','#Lags Used','Number of Observations Used']\n",
    "    for value,label in zip(result,labels):\n",
    "        print(label+' : '+str(value) )\n",
    "    if result[1] <= 0.05:\n",
    "        print(\"strong evidence against the null hypothesis(Ho), reject the null hypothesis. Data has no unit root and is stationary\")\n",
    "    else:\n",
    "        print(\"weak evidence against null hypothesis, time series has a unit root, indicating it is non-stationary \")"
   ]
  },
  {
   "cell_type": "code",
   "execution_count": 11,
   "id": "simplified-insurance",
   "metadata": {
    "scrolled": true
   },
   "outputs": [
    {
     "name": "stdout",
     "output_type": "stream",
     "text": [
      "ADF Test Statistic : -2.2490335264890495\n",
      "p-value : 0.1889325591353696\n",
      "#Lags Used : 1\n",
      "Number of Observations Used : 58\n",
      "weak evidence against null hypothesis, time series has a unit root, indicating it is non-stationary \n"
     ]
    }
   ],
   "source": [
    "adfuller_test(sg_dataW['total'])"
   ]
  },
  {
   "cell_type": "code",
   "execution_count": 12,
   "id": "engaging-victor",
   "metadata": {},
   "outputs": [
    {
     "name": "stdout",
     "output_type": "stream",
     "text": [
      "ADF Test Statistic : -2.102313279165488\n",
      "p-value : 0.24358543832306678\n",
      "#Lags Used : 5\n",
      "Number of Observations Used : 9\n",
      "weak evidence against null hypothesis, time series has a unit root, indicating it is non-stationary \n"
     ]
    }
   ],
   "source": [
    "adfuller_test(sg_dataMS['total'])"
   ]
  },
  {
   "cell_type": "markdown",
   "id": "pressed-manhattan",
   "metadata": {},
   "source": [
    "# Differencing"
   ]
  },
  {
   "cell_type": "markdown",
   "id": "elegant-questionnaire",
   "metadata": {},
   "source": [
    "To make our dataset stationary"
   ]
  },
  {
   "cell_type": "code",
   "execution_count": 13,
   "id": "opposite-andrews",
   "metadata": {},
   "outputs": [
    {
     "data": {
      "text/html": [
       "<div>\n",
       "<style scoped>\n",
       "    .dataframe tbody tr th:only-of-type {\n",
       "        vertical-align: middle;\n",
       "    }\n",
       "\n",
       "    .dataframe tbody tr th {\n",
       "        vertical-align: top;\n",
       "    }\n",
       "\n",
       "    .dataframe thead th {\n",
       "        text-align: right;\n",
       "    }\n",
       "</style>\n",
       "<table border=\"1\" class=\"dataframe\">\n",
       "  <thead>\n",
       "    <tr style=\"text-align: right;\">\n",
       "      <th></th>\n",
       "      <th>total</th>\n",
       "      <th>total first difference</th>\n",
       "    </tr>\n",
       "    <tr>\n",
       "      <th>date</th>\n",
       "      <th></th>\n",
       "      <th></th>\n",
       "    </tr>\n",
       "  </thead>\n",
       "  <tbody>\n",
       "    <tr>\n",
       "      <th>2020-01-26</th>\n",
       "      <td>4.0</td>\n",
       "      <td>NaN</td>\n",
       "    </tr>\n",
       "    <tr>\n",
       "      <th>2020-02-02</th>\n",
       "      <td>18.0</td>\n",
       "      <td>NaN</td>\n",
       "    </tr>\n",
       "    <tr>\n",
       "      <th>2020-02-09</th>\n",
       "      <td>40.0</td>\n",
       "      <td>NaN</td>\n",
       "    </tr>\n",
       "    <tr>\n",
       "      <th>2020-02-16</th>\n",
       "      <td>75.0</td>\n",
       "      <td>NaN</td>\n",
       "    </tr>\n",
       "    <tr>\n",
       "      <th>2020-02-23</th>\n",
       "      <td>89.0</td>\n",
       "      <td>NaN</td>\n",
       "    </tr>\n",
       "    <tr>\n",
       "      <th>2020-03-01</th>\n",
       "      <td>106.0</td>\n",
       "      <td>NaN</td>\n",
       "    </tr>\n",
       "    <tr>\n",
       "      <th>2020-03-08</th>\n",
       "      <td>150.0</td>\n",
       "      <td>146.0</td>\n",
       "    </tr>\n",
       "    <tr>\n",
       "      <th>2020-03-15</th>\n",
       "      <td>226.0</td>\n",
       "      <td>208.0</td>\n",
       "    </tr>\n",
       "    <tr>\n",
       "      <th>2020-03-22</th>\n",
       "      <td>455.0</td>\n",
       "      <td>415.0</td>\n",
       "    </tr>\n",
       "    <tr>\n",
       "      <th>2020-03-29</th>\n",
       "      <td>844.0</td>\n",
       "      <td>769.0</td>\n",
       "    </tr>\n",
       "    <tr>\n",
       "      <th>2020-04-05</th>\n",
       "      <td>1309.0</td>\n",
       "      <td>1220.0</td>\n",
       "    </tr>\n",
       "    <tr>\n",
       "      <th>2020-04-12</th>\n",
       "      <td>2532.0</td>\n",
       "      <td>2426.0</td>\n",
       "    </tr>\n",
       "    <tr>\n",
       "      <th>2020-04-19</th>\n",
       "      <td>6588.0</td>\n",
       "      <td>6438.0</td>\n",
       "    </tr>\n",
       "    <tr>\n",
       "      <th>2020-04-26</th>\n",
       "      <td>13624.0</td>\n",
       "      <td>13398.0</td>\n",
       "    </tr>\n",
       "    <tr>\n",
       "      <th>2020-05-03</th>\n",
       "      <td>18205.0</td>\n",
       "      <td>17750.0</td>\n",
       "    </tr>\n",
       "    <tr>\n",
       "      <th>2020-05-10</th>\n",
       "      <td>23336.0</td>\n",
       "      <td>22492.0</td>\n",
       "    </tr>\n",
       "    <tr>\n",
       "      <th>2020-05-17</th>\n",
       "      <td>28038.0</td>\n",
       "      <td>26729.0</td>\n",
       "    </tr>\n",
       "    <tr>\n",
       "      <th>2020-05-24</th>\n",
       "      <td>31616.0</td>\n",
       "      <td>29084.0</td>\n",
       "    </tr>\n",
       "    <tr>\n",
       "      <th>2020-05-31</th>\n",
       "      <td>34884.0</td>\n",
       "      <td>28296.0</td>\n",
       "    </tr>\n",
       "    <tr>\n",
       "      <th>2020-06-07</th>\n",
       "      <td>37910.0</td>\n",
       "      <td>24286.0</td>\n",
       "    </tr>\n",
       "    <tr>\n",
       "      <th>2020-06-14</th>\n",
       "      <td>40604.0</td>\n",
       "      <td>22399.0</td>\n",
       "    </tr>\n",
       "    <tr>\n",
       "      <th>2020-06-21</th>\n",
       "      <td>42095.0</td>\n",
       "      <td>18759.0</td>\n",
       "    </tr>\n",
       "    <tr>\n",
       "      <th>2020-06-28</th>\n",
       "      <td>43459.0</td>\n",
       "      <td>15421.0</td>\n",
       "    </tr>\n",
       "    <tr>\n",
       "      <th>2020-07-05</th>\n",
       "      <td>44800.0</td>\n",
       "      <td>13184.0</td>\n",
       "    </tr>\n",
       "    <tr>\n",
       "      <th>2020-07-12</th>\n",
       "      <td>45961.0</td>\n",
       "      <td>11077.0</td>\n",
       "    </tr>\n",
       "    <tr>\n",
       "      <th>2020-07-19</th>\n",
       "      <td>47912.0</td>\n",
       "      <td>10002.0</td>\n",
       "    </tr>\n",
       "    <tr>\n",
       "      <th>2020-07-26</th>\n",
       "      <td>50369.0</td>\n",
       "      <td>9765.0</td>\n",
       "    </tr>\n",
       "    <tr>\n",
       "      <th>2020-08-02</th>\n",
       "      <td>52825.0</td>\n",
       "      <td>10730.0</td>\n",
       "    </tr>\n",
       "    <tr>\n",
       "      <th>2020-08-09</th>\n",
       "      <td>55104.0</td>\n",
       "      <td>11645.0</td>\n",
       "    </tr>\n",
       "    <tr>\n",
       "      <th>2020-08-16</th>\n",
       "      <td>55747.0</td>\n",
       "      <td>10947.0</td>\n",
       "    </tr>\n",
       "    <tr>\n",
       "      <th>2020-08-23</th>\n",
       "      <td>56353.0</td>\n",
       "      <td>10392.0</td>\n",
       "    </tr>\n",
       "    <tr>\n",
       "      <th>2020-08-30</th>\n",
       "      <td>56771.0</td>\n",
       "      <td>8859.0</td>\n",
       "    </tr>\n",
       "    <tr>\n",
       "      <th>2020-09-06</th>\n",
       "      <td>57022.0</td>\n",
       "      <td>6653.0</td>\n",
       "    </tr>\n",
       "    <tr>\n",
       "      <th>2020-09-13</th>\n",
       "      <td>57406.0</td>\n",
       "      <td>4581.0</td>\n",
       "    </tr>\n",
       "    <tr>\n",
       "      <th>2020-09-20</th>\n",
       "      <td>57576.0</td>\n",
       "      <td>2472.0</td>\n",
       "    </tr>\n",
       "    <tr>\n",
       "      <th>2020-09-27</th>\n",
       "      <td>57700.0</td>\n",
       "      <td>1953.0</td>\n",
       "    </tr>\n",
       "    <tr>\n",
       "      <th>2020-10-04</th>\n",
       "      <td>57812.0</td>\n",
       "      <td>1459.0</td>\n",
       "    </tr>\n",
       "    <tr>\n",
       "      <th>2020-10-11</th>\n",
       "      <td>57876.0</td>\n",
       "      <td>1105.0</td>\n",
       "    </tr>\n",
       "    <tr>\n",
       "      <th>2020-10-18</th>\n",
       "      <td>57911.0</td>\n",
       "      <td>889.0</td>\n",
       "    </tr>\n",
       "    <tr>\n",
       "      <th>2020-10-25</th>\n",
       "      <td>57970.0</td>\n",
       "      <td>564.0</td>\n",
       "    </tr>\n",
       "    <tr>\n",
       "      <th>2020-11-01</th>\n",
       "      <td>58019.0</td>\n",
       "      <td>443.0</td>\n",
       "    </tr>\n",
       "    <tr>\n",
       "      <th>2020-11-08</th>\n",
       "      <td>58056.0</td>\n",
       "      <td>356.0</td>\n",
       "    </tr>\n",
       "    <tr>\n",
       "      <th>2020-11-15</th>\n",
       "      <td>58119.0</td>\n",
       "      <td>307.0</td>\n",
       "    </tr>\n",
       "    <tr>\n",
       "      <th>2020-11-22</th>\n",
       "      <td>58160.0</td>\n",
       "      <td>284.0</td>\n",
       "    </tr>\n",
       "    <tr>\n",
       "      <th>2020-11-29</th>\n",
       "      <td>58213.0</td>\n",
       "      <td>302.0</td>\n",
       "    </tr>\n",
       "    <tr>\n",
       "      <th>2020-12-06</th>\n",
       "      <td>58260.0</td>\n",
       "      <td>290.0</td>\n",
       "    </tr>\n",
       "    <tr>\n",
       "      <th>2020-12-13</th>\n",
       "      <td>58320.0</td>\n",
       "      <td>301.0</td>\n",
       "    </tr>\n",
       "    <tr>\n",
       "      <th>2020-12-20</th>\n",
       "      <td>58422.0</td>\n",
       "      <td>366.0</td>\n",
       "    </tr>\n",
       "    <tr>\n",
       "      <th>2020-12-27</th>\n",
       "      <td>58524.0</td>\n",
       "      <td>405.0</td>\n",
       "    </tr>\n",
       "    <tr>\n",
       "      <th>2021-01-03</th>\n",
       "      <td>58697.0</td>\n",
       "      <td>537.0</td>\n",
       "    </tr>\n",
       "    <tr>\n",
       "      <th>2021-01-10</th>\n",
       "      <td>58907.0</td>\n",
       "      <td>694.0</td>\n",
       "    </tr>\n",
       "    <tr>\n",
       "      <th>2021-01-17</th>\n",
       "      <td>59113.0</td>\n",
       "      <td>853.0</td>\n",
       "    </tr>\n",
       "    <tr>\n",
       "      <th>2021-01-24</th>\n",
       "      <td>59308.0</td>\n",
       "      <td>988.0</td>\n",
       "    </tr>\n",
       "    <tr>\n",
       "      <th>2021-01-31</th>\n",
       "      <td>59536.0</td>\n",
       "      <td>1114.0</td>\n",
       "    </tr>\n",
       "    <tr>\n",
       "      <th>2021-02-07</th>\n",
       "      <td>59699.0</td>\n",
       "      <td>1175.0</td>\n",
       "    </tr>\n",
       "    <tr>\n",
       "      <th>2021-02-14</th>\n",
       "      <td>59800.0</td>\n",
       "      <td>1103.0</td>\n",
       "    </tr>\n",
       "    <tr>\n",
       "      <th>2021-02-21</th>\n",
       "      <td>59869.0</td>\n",
       "      <td>962.0</td>\n",
       "    </tr>\n",
       "    <tr>\n",
       "      <th>2021-02-28</th>\n",
       "      <td>59936.0</td>\n",
       "      <td>823.0</td>\n",
       "    </tr>\n",
       "    <tr>\n",
       "      <th>2021-03-07</th>\n",
       "      <td>60033.0</td>\n",
       "      <td>725.0</td>\n",
       "    </tr>\n",
       "    <tr>\n",
       "      <th>2021-03-14</th>\n",
       "      <td>60033.0</td>\n",
       "      <td>497.0</td>\n",
       "    </tr>\n",
       "  </tbody>\n",
       "</table>\n",
       "</div>"
      ],
      "text/plain": [
       "              total  total first difference\n",
       "date                                       \n",
       "2020-01-26      4.0                     NaN\n",
       "2020-02-02     18.0                     NaN\n",
       "2020-02-09     40.0                     NaN\n",
       "2020-02-16     75.0                     NaN\n",
       "2020-02-23     89.0                     NaN\n",
       "2020-03-01    106.0                     NaN\n",
       "2020-03-08    150.0                   146.0\n",
       "2020-03-15    226.0                   208.0\n",
       "2020-03-22    455.0                   415.0\n",
       "2020-03-29    844.0                   769.0\n",
       "2020-04-05   1309.0                  1220.0\n",
       "2020-04-12   2532.0                  2426.0\n",
       "2020-04-19   6588.0                  6438.0\n",
       "2020-04-26  13624.0                 13398.0\n",
       "2020-05-03  18205.0                 17750.0\n",
       "2020-05-10  23336.0                 22492.0\n",
       "2020-05-17  28038.0                 26729.0\n",
       "2020-05-24  31616.0                 29084.0\n",
       "2020-05-31  34884.0                 28296.0\n",
       "2020-06-07  37910.0                 24286.0\n",
       "2020-06-14  40604.0                 22399.0\n",
       "2020-06-21  42095.0                 18759.0\n",
       "2020-06-28  43459.0                 15421.0\n",
       "2020-07-05  44800.0                 13184.0\n",
       "2020-07-12  45961.0                 11077.0\n",
       "2020-07-19  47912.0                 10002.0\n",
       "2020-07-26  50369.0                  9765.0\n",
       "2020-08-02  52825.0                 10730.0\n",
       "2020-08-09  55104.0                 11645.0\n",
       "2020-08-16  55747.0                 10947.0\n",
       "2020-08-23  56353.0                 10392.0\n",
       "2020-08-30  56771.0                  8859.0\n",
       "2020-09-06  57022.0                  6653.0\n",
       "2020-09-13  57406.0                  4581.0\n",
       "2020-09-20  57576.0                  2472.0\n",
       "2020-09-27  57700.0                  1953.0\n",
       "2020-10-04  57812.0                  1459.0\n",
       "2020-10-11  57876.0                  1105.0\n",
       "2020-10-18  57911.0                   889.0\n",
       "2020-10-25  57970.0                   564.0\n",
       "2020-11-01  58019.0                   443.0\n",
       "2020-11-08  58056.0                   356.0\n",
       "2020-11-15  58119.0                   307.0\n",
       "2020-11-22  58160.0                   284.0\n",
       "2020-11-29  58213.0                   302.0\n",
       "2020-12-06  58260.0                   290.0\n",
       "2020-12-13  58320.0                   301.0\n",
       "2020-12-20  58422.0                   366.0\n",
       "2020-12-27  58524.0                   405.0\n",
       "2021-01-03  58697.0                   537.0\n",
       "2021-01-10  58907.0                   694.0\n",
       "2021-01-17  59113.0                   853.0\n",
       "2021-01-24  59308.0                   988.0\n",
       "2021-01-31  59536.0                  1114.0\n",
       "2021-02-07  59699.0                  1175.0\n",
       "2021-02-14  59800.0                  1103.0\n",
       "2021-02-21  59869.0                   962.0\n",
       "2021-02-28  59936.0                   823.0\n",
       "2021-03-07  60033.0                   725.0\n",
       "2021-03-14  60033.0                   497.0"
      ]
     },
     "execution_count": 13,
     "metadata": {},
     "output_type": "execute_result"
    }
   ],
   "source": [
    "sg_dataW['total first difference'] = sg_dataW['total'] - sg_dataW['total'].shift(6)\n",
    "sg_dataW"
   ]
  },
  {
   "cell_type": "code",
   "execution_count": 14,
   "id": "atomic-drilling",
   "metadata": {},
   "outputs": [
    {
     "data": {
      "text/html": [
       "<div>\n",
       "<style scoped>\n",
       "    .dataframe tbody tr th:only-of-type {\n",
       "        vertical-align: middle;\n",
       "    }\n",
       "\n",
       "    .dataframe tbody tr th {\n",
       "        vertical-align: top;\n",
       "    }\n",
       "\n",
       "    .dataframe thead th {\n",
       "        text-align: right;\n",
       "    }\n",
       "</style>\n",
       "<table border=\"1\" class=\"dataframe\">\n",
       "  <thead>\n",
       "    <tr style=\"text-align: right;\">\n",
       "      <th></th>\n",
       "      <th>total</th>\n",
       "      <th>total first difference</th>\n",
       "    </tr>\n",
       "    <tr>\n",
       "      <th>date</th>\n",
       "      <th></th>\n",
       "      <th></th>\n",
       "    </tr>\n",
       "  </thead>\n",
       "  <tbody>\n",
       "    <tr>\n",
       "      <th>2020-01-01</th>\n",
       "      <td>0.0</td>\n",
       "      <td>NaN</td>\n",
       "    </tr>\n",
       "    <tr>\n",
       "      <th>2020-02-01</th>\n",
       "      <td>16.0</td>\n",
       "      <td>NaN</td>\n",
       "    </tr>\n",
       "    <tr>\n",
       "      <th>2020-03-01</th>\n",
       "      <td>106.0</td>\n",
       "      <td>106.0</td>\n",
       "    </tr>\n",
       "    <tr>\n",
       "      <th>2020-04-01</th>\n",
       "      <td>1000.0</td>\n",
       "      <td>984.0</td>\n",
       "    </tr>\n",
       "    <tr>\n",
       "      <th>2020-05-01</th>\n",
       "      <td>17101.0</td>\n",
       "      <td>16995.0</td>\n",
       "    </tr>\n",
       "    <tr>\n",
       "      <th>2020-06-01</th>\n",
       "      <td>35292.0</td>\n",
       "      <td>34292.0</td>\n",
       "    </tr>\n",
       "    <tr>\n",
       "      <th>2020-07-01</th>\n",
       "      <td>44122.0</td>\n",
       "      <td>27021.0</td>\n",
       "    </tr>\n",
       "    <tr>\n",
       "      <th>2020-08-01</th>\n",
       "      <td>52512.0</td>\n",
       "      <td>17220.0</td>\n",
       "    </tr>\n",
       "    <tr>\n",
       "      <th>2020-09-01</th>\n",
       "      <td>56852.0</td>\n",
       "      <td>12730.0</td>\n",
       "    </tr>\n",
       "    <tr>\n",
       "      <th>2020-10-01</th>\n",
       "      <td>57784.0</td>\n",
       "      <td>5272.0</td>\n",
       "    </tr>\n",
       "    <tr>\n",
       "      <th>2020-11-01</th>\n",
       "      <td>58019.0</td>\n",
       "      <td>1167.0</td>\n",
       "    </tr>\n",
       "    <tr>\n",
       "      <th>2020-12-01</th>\n",
       "      <td>58228.0</td>\n",
       "      <td>444.0</td>\n",
       "    </tr>\n",
       "    <tr>\n",
       "      <th>2021-01-01</th>\n",
       "      <td>58629.0</td>\n",
       "      <td>610.0</td>\n",
       "    </tr>\n",
       "    <tr>\n",
       "      <th>2021-02-01</th>\n",
       "      <td>59565.0</td>\n",
       "      <td>1337.0</td>\n",
       "    </tr>\n",
       "    <tr>\n",
       "      <th>2021-03-01</th>\n",
       "      <td>59948.0</td>\n",
       "      <td>1319.0</td>\n",
       "    </tr>\n",
       "  </tbody>\n",
       "</table>\n",
       "</div>"
      ],
      "text/plain": [
       "              total  total first difference\n",
       "date                                       \n",
       "2020-01-01      0.0                     NaN\n",
       "2020-02-01     16.0                     NaN\n",
       "2020-03-01    106.0                   106.0\n",
       "2020-04-01   1000.0                   984.0\n",
       "2020-05-01  17101.0                 16995.0\n",
       "2020-06-01  35292.0                 34292.0\n",
       "2020-07-01  44122.0                 27021.0\n",
       "2020-08-01  52512.0                 17220.0\n",
       "2020-09-01  56852.0                 12730.0\n",
       "2020-10-01  57784.0                  5272.0\n",
       "2020-11-01  58019.0                  1167.0\n",
       "2020-12-01  58228.0                   444.0\n",
       "2021-01-01  58629.0                   610.0\n",
       "2021-02-01  59565.0                  1337.0\n",
       "2021-03-01  59948.0                  1319.0"
      ]
     },
     "execution_count": 14,
     "metadata": {},
     "output_type": "execute_result"
    }
   ],
   "source": [
    "sg_dataMS['total first difference'] = sg_dataMS['total'] - sg_dataMS['total'].shift(2)\n",
    "sg_dataMS"
   ]
  },
  {
   "cell_type": "code",
   "execution_count": 15,
   "id": "foreign-nashville",
   "metadata": {
    "scrolled": true
   },
   "outputs": [
    {
     "name": "stdout",
     "output_type": "stream",
     "text": [
      "ADF Test Statistic : -4.671025556585919\n",
      "p-value : 9.535658751920748e-05\n",
      "#Lags Used : 11\n",
      "Number of Observations Used : 42\n",
      "strong evidence against the null hypothesis(Ho), reject the null hypothesis. Data has no unit root and is stationary\n"
     ]
    }
   ],
   "source": [
    "adfuller_test(sg_dataW['total first difference'].dropna())"
   ]
  },
  {
   "cell_type": "code",
   "execution_count": 16,
   "id": "essential-colors",
   "metadata": {},
   "outputs": [
    {
     "name": "stdout",
     "output_type": "stream",
     "text": [
      "ADF Test Statistic : -8.79563917905743\n",
      "p-value : 2.1803008741002437e-14\n",
      "#Lags Used : 3\n",
      "Number of Observations Used : 9\n",
      "strong evidence against the null hypothesis(Ho), reject the null hypothesis. Data has no unit root and is stationary\n"
     ]
    }
   ],
   "source": [
    "adfuller_test(sg_dataMS['total first difference'].dropna())"
   ]
  },
  {
   "cell_type": "markdown",
   "id": "taken-massage",
   "metadata": {},
   "source": [
    "# Auto Regressive Model"
   ]
  },
  {
   "cell_type": "code",
   "execution_count": 17,
   "id": "imperial-density",
   "metadata": {},
   "outputs": [
    {
     "data": {
      "image/png": "[encoded data removed]",
      "text/plain": [
       "<Figure size 432x288 with 1 Axes>"
      ]
     },
     "metadata": {
      "needs_background": "light"
     },
     "output_type": "display_data"
    }
   ],
   "source": [
    "from pandas.plotting import autocorrelation_plot\n",
    "autocorrelation_plot(sg_dataW['total'])\n",
    "plt.show()"
   ]
  },
  {
   "cell_type": "code",
   "execution_count": 18,
   "id": "adolescent-romantic",
   "metadata": {},
   "outputs": [
    {
     "data": {
      "image/png": "[encoded data removed]",
      "text/plain": [
       "<Figure size 432x288 with 1 Axes>"
      ]
     },
     "metadata": {
      "needs_background": "light"
     },
     "output_type": "display_data"
    }
   ],
   "source": [
    "from pandas.plotting import autocorrelation_plot\n",
    "autocorrelation_plot(sg_dataMS['total'])\n",
    "plt.show()"
   ]
  },
  {
   "cell_type": "code",
   "execution_count": 19,
   "id": "irish-driver",
   "metadata": {},
   "outputs": [
    {
     "data": {
      "image/png": "[encoded data removed]",
      "text/plain": [
       "<Figure size 1080x432 with 2 Axes>"
      ]
     },
     "metadata": {
      "needs_background": "light"
     },
     "output_type": "display_data"
    }
   ],
   "source": [
    "#Weekly\n",
    "fig = plt.figure(figsize=(15,6))\n",
    "ax1 = fig.add_subplot(211)\n",
    "fig = sm.graphics.tsa.plot_acf(sg_dataW['total first difference'].iloc[7:],lags=20,ax=ax1)\n",
    "ax2 = fig.add_subplot(212)\n",
    "fig = sm.graphics.tsa.plot_pacf(sg_dataW['total first difference'].iloc[7:],lags=20,ax=ax2)"
   ]
  },
  {
   "cell_type": "code",
   "execution_count": 20,
   "id": "relative-candle",
   "metadata": {},
   "outputs": [
    {
     "data": {
      "image/png": "[encoded data removed]",
      "text/plain": [
       "<Figure size 1080x432 with 2 Axes>"
      ]
     },
     "metadata": {
      "needs_background": "light"
     },
     "output_type": "display_data"
    }
   ],
   "source": [
    "#Monthly\n",
    "fig = plt.figure(figsize=(15,6))\n",
    "ax1 = fig.add_subplot(211)\n",
    "fig = sm.graphics.tsa.plot_acf(sg_dataMS['total first difference'].iloc[3:],lags=5,ax=ax1)\n",
    "ax2 = fig.add_subplot(212)\n",
    "fig = sm.graphics.tsa.plot_pacf(sg_dataMS['total first difference'].iloc[3:],lags=5,ax=ax2)"
   ]
  },
  {
   "cell_type": "code",
   "execution_count": 21,
   "id": "original-gauge",
   "metadata": {},
   "outputs": [
    {
     "data": {
      "text/html": [
       "<table class=\"simpletable\">\n",
       "<caption>ARMA Model Results</caption>\n",
       "<tr>\n",
       "  <th>Dep. Variable:</th>       <td>total</td>      <th>  No. Observations:  </th>    <td>60</td>   \n",
       "</tr>\n",
       "<tr>\n",
       "  <th>Model:</th>            <td>ARMA(1, 0)</td>    <th>  Log Likelihood     </th> <td>-540.765</td>\n",
       "</tr>\n",
       "<tr>\n",
       "  <th>Method:</th>             <td>css-mle</td>     <th>  S.D. of innovations</th> <td>1873.097</td>\n",
       "</tr>\n",
       "<tr>\n",
       "  <th>Date:</th>          <td>Fri, 19 Mar 2021</td> <th>  AIC                </th> <td>1087.531</td>\n",
       "</tr>\n",
       "<tr>\n",
       "  <th>Time:</th>              <td>20:09:15</td>     <th>  BIC                </th> <td>1093.814</td>\n",
       "</tr>\n",
       "<tr>\n",
       "  <th>Sample:</th>           <td>01-26-2020</td>    <th>  HQIC               </th> <td>1089.988</td>\n",
       "</tr>\n",
       "<tr>\n",
       "  <th></th>                 <td>- 03-14-2021</td>   <th>                     </th>     <td> </td>   \n",
       "</tr>\n",
       "</table>\n",
       "<table class=\"simpletable\">\n",
       "<tr>\n",
       "       <td></td>          <th>coef</th>     <th>std err</th>      <th>z</th>      <th>P>|z|</th>  <th>[0.025</th>    <th>0.975]</th>  \n",
       "</tr>\n",
       "<tr>\n",
       "  <th>const</th>       <td> 8.521e+04</td> <td>      nan</td> <td>      nan</td> <td>   nan</td> <td>      nan</td> <td>      nan</td>\n",
       "</tr>\n",
       "<tr>\n",
       "  <th>ar.L1.total</th> <td>    0.9996</td> <td>      nan</td> <td>      nan</td> <td>   nan</td> <td>      nan</td> <td>      nan</td>\n",
       "</tr>\n",
       "</table>\n",
       "<table class=\"simpletable\">\n",
       "<caption>Roots</caption>\n",
       "<tr>\n",
       "    <td></td>   <th>            Real</th>  <th>         Imaginary</th> <th>         Modulus</th>  <th>        Frequency</th>\n",
       "</tr>\n",
       "<tr>\n",
       "  <th>AR.1</th> <td>           1.0004</td> <td>          +0.0000j</td> <td>           1.0004</td> <td>           0.0000</td>\n",
       "</tr>\n",
       "</table>"
      ],
      "text/plain": [
       "<class 'statsmodels.iolib.summary.Summary'>\n",
       "\"\"\"\n",
       "                              ARMA Model Results                              \n",
       "==============================================================================\n",
       "Dep. Variable:                  total   No. Observations:                   60\n",
       "Model:                     ARMA(1, 0)   Log Likelihood                -540.765\n",
       "Method:                       css-mle   S.D. of innovations           1873.097\n",
       "Date:                Fri, 19 Mar 2021   AIC                           1087.531\n",
       "Time:                        20:09:15   BIC                           1093.814\n",
       "Sample:                    01-26-2020   HQIC                          1089.988\n",
       "                         - 03-14-2021                                         \n",
       "===============================================================================\n",
       "                  coef    std err          z      P>|z|      [0.025      0.975]\n",
       "-------------------------------------------------------------------------------\n",
       "const        8.521e+04        nan        nan        nan         nan         nan\n",
       "ar.L1.total     0.9996        nan        nan        nan         nan         nan\n",
       "                                    Roots                                    \n",
       "=============================================================================\n",
       "                  Real          Imaginary           Modulus         Frequency\n",
       "-----------------------------------------------------------------------------\n",
       "AR.1            1.0004           +0.0000j            1.0004            0.0000\n",
       "-----------------------------------------------------------------------------\n",
       "\"\"\""
      ]
     },
     "execution_count": 21,
     "metadata": {},
     "output_type": "execute_result"
    }
   ],
   "source": [
    "##p=1, d=0, q=0\n",
    "w_model=ARIMA(sg_dataW['total'],order=(1,0,0))\n",
    "w_model_fit=w_model.fit()\n",
    "w_model_fit.summary()"
   ]
  },
  {
   "cell_type": "code",
   "execution_count": 22,
   "id": "optical-works",
   "metadata": {},
   "outputs": [
    {
     "data": {
      "text/html": [
       "<table class=\"simpletable\">\n",
       "<caption>ARMA Model Results</caption>\n",
       "<tr>\n",
       "  <th>Dep. Variable:</th>       <td>total</td>      <th>  No. Observations:  </th>    <td>15</td>   \n",
       "</tr>\n",
       "<tr>\n",
       "  <th>Model:</th>            <td>ARMA(1, 0)</td>    <th>  Log Likelihood     </th> <td>-156.124</td>\n",
       "</tr>\n",
       "<tr>\n",
       "  <th>Method:</th>             <td>css-mle</td>     <th>  S.D. of innovations</th> <td>7321.662</td>\n",
       "</tr>\n",
       "<tr>\n",
       "  <th>Date:</th>          <td>Fri, 19 Mar 2021</td> <th>  AIC                </th>  <td>318.247</td>\n",
       "</tr>\n",
       "<tr>\n",
       "  <th>Time:</th>              <td>20:09:15</td>     <th>  BIC                </th>  <td>320.371</td>\n",
       "</tr>\n",
       "<tr>\n",
       "  <th>Sample:</th>           <td>01-01-2020</td>    <th>  HQIC               </th>  <td>318.225</td>\n",
       "</tr>\n",
       "<tr>\n",
       "  <th></th>                 <td>- 03-01-2021</td>   <th>                     </th>     <td> </td>   \n",
       "</tr>\n",
       "</table>\n",
       "<table class=\"simpletable\">\n",
       "<tr>\n",
       "       <td></td>          <th>coef</th>     <th>std err</th>      <th>z</th>      <th>P>|z|</th>  <th>[0.025</th>    <th>0.975]</th>  \n",
       "</tr>\n",
       "<tr>\n",
       "  <th>const</th>       <td> 3.173e+04</td> <td> 2.57e+04</td> <td>    1.235</td> <td> 0.217</td> <td>-1.86e+04</td> <td> 8.21e+04</td>\n",
       "</tr>\n",
       "<tr>\n",
       "  <th>ar.L1.total</th> <td>    0.9665</td> <td>    0.042</td> <td>   22.985</td> <td> 0.000</td> <td>    0.884</td> <td>    1.049</td>\n",
       "</tr>\n",
       "</table>\n",
       "<table class=\"simpletable\">\n",
       "<caption>Roots</caption>\n",
       "<tr>\n",
       "    <td></td>   <th>            Real</th>  <th>         Imaginary</th> <th>         Modulus</th>  <th>        Frequency</th>\n",
       "</tr>\n",
       "<tr>\n",
       "  <th>AR.1</th> <td>           1.0346</td> <td>          +0.0000j</td> <td>           1.0346</td> <td>           0.0000</td>\n",
       "</tr>\n",
       "</table>"
      ],
      "text/plain": [
       "<class 'statsmodels.iolib.summary.Summary'>\n",
       "\"\"\"\n",
       "                              ARMA Model Results                              \n",
       "==============================================================================\n",
       "Dep. Variable:                  total   No. Observations:                   15\n",
       "Model:                     ARMA(1, 0)   Log Likelihood                -156.124\n",
       "Method:                       css-mle   S.D. of innovations           7321.662\n",
       "Date:                Fri, 19 Mar 2021   AIC                            318.247\n",
       "Time:                        20:09:15   BIC                            320.371\n",
       "Sample:                    01-01-2020   HQIC                           318.225\n",
       "                         - 03-01-2021                                         \n",
       "===============================================================================\n",
       "                  coef    std err          z      P>|z|      [0.025      0.975]\n",
       "-------------------------------------------------------------------------------\n",
       "const        3.173e+04   2.57e+04      1.235      0.217   -1.86e+04    8.21e+04\n",
       "ar.L1.total     0.9665      0.042     22.985      0.000       0.884       1.049\n",
       "                                    Roots                                    \n",
       "=============================================================================\n",
       "                  Real          Imaginary           Modulus         Frequency\n",
       "-----------------------------------------------------------------------------\n",
       "AR.1            1.0346           +0.0000j            1.0346            0.0000\n",
       "-----------------------------------------------------------------------------\n",
       "\"\"\""
      ]
     },
     "execution_count": 22,
     "metadata": {},
     "output_type": "execute_result"
    }
   ],
   "source": [
    "##p=1, d=0, q=0\n",
    "m_model=ARIMA(sg_dataMS['total'],order=(1,0,0))\n",
    "m_model_fit=m_model.fit()\n",
    "m_model_fit.summary()"
   ]
  },
  {
   "cell_type": "code",
   "execution_count": 23,
   "id": "olympic-catch",
   "metadata": {},
   "outputs": [
    {
     "data": {
      "text/plain": [
       "<AxesSubplot:xlabel='date'>"
      ]
     },
     "execution_count": 23,
     "metadata": {},
     "output_type": "execute_result"
    },
    {
     "data": {
      "image/png": "[encoded data removed]",
      "text/plain": [
       "<Figure size 1080x432 with 1 Axes>"
      ]
     },
     "metadata": {
      "needs_background": "light"
     },
     "output_type": "display_data"
    }
   ],
   "source": [
    "sg_dataW['forecast']=w_model_fit.predict(start=50,end=60,dynamic=True)\n",
    "sg_dataW[['total','forecast']].plot(figsize=(15, 6))"
   ]
  },
  {
   "cell_type": "code",
   "execution_count": 40,
   "id": "coastal-basic",
   "metadata": {},
   "outputs": [
    {
     "data": {
      "text/plain": [
       "<AxesSubplot:xlabel='date'>"
      ]
     },
     "execution_count": 40,
     "metadata": {},
     "output_type": "execute_result"
    },
    {
     "data": {
      "image/png": "[encoded data removed]",
      "text/plain": [
       "<Figure size 1080x432 with 1 Axes>"
      ]
     },
     "metadata": {
      "needs_background": "light"
     },
     "output_type": "display_data"
    }
   ],
   "source": [
    "sg_dataMS['forecast']=m_model_fit.predict(start=12,end=15,dynamic=True)\n",
    "sg_dataMS[['total','forecast']].plot(figsize=(15, 6))"
   ]
  },
  {
   "cell_type": "markdown",
   "id": "mighty-linux",
   "metadata": {},
   "source": [
    "# SARIMAX"
   ]
  },
  {
   "cell_type": "code",
   "execution_count": 25,
   "id": "magnetic-tattoo",
   "metadata": {},
   "outputs": [],
   "source": [
    "import itertools\n",
    "\n",
    "pW = dW = qW = range(0, 2)\n",
    "pdqW = list(itertools.product(pW, dW, qW))\n",
    "seasonal_pdqW = [(x[0], x[1], x[2], 30) for x in list(itertools.product(pW, dW, qW))]\n",
    "\n",
    "pMS = dMS = qMS = range(0, 2)\n",
    "pdqMS = list(itertools.product(pMS, dMS, qMS))\n",
    "seasonal_pdqMS = [(x[0], x[1], x[2], 30) for x in list(itertools.product(pMS, dMS, qMS))]\n"
   ]
  },
  {
   "cell_type": "code",
   "execution_count": 26,
   "id": "diverse-northeast",
   "metadata": {},
   "outputs": [
    {
     "name": "stdout",
     "output_type": "stream",
     "text": [
      "date\n",
      "2020-01-26        2.200000\n",
      "2020-02-02       10.857143\n",
      "2020-02-09       28.714286\n",
      "2020-02-16       59.142857\n",
      "2020-02-23       83.571429\n",
      "2020-03-01       95.285714\n",
      "2020-03-08      123.285714\n",
      "2020-03-15      186.285714\n",
      "2020-03-22      348.428571\n",
      "2020-03-29      679.857143\n",
      "2020-04-05     1066.571429\n",
      "2020-04-12     1904.000000\n",
      "2020-04-19     4560.857143\n",
      "2020-04-26    10978.571429\n",
      "2020-05-03    16291.142857\n",
      "2020-05-10    20975.428571\n",
      "2020-05-17    26031.714286\n",
      "2020-05-24    29917.571429\n",
      "2020-05-31    33362.571429\n",
      "2020-06-07    36725.000000\n",
      "2020-06-14    39401.857143\n",
      "2020-06-21    41431.285714\n",
      "2020-06-28    42823.428571\n",
      "2020-07-05    44277.571429\n",
      "2020-07-12    45457.428571\n",
      "2020-07-19    47133.857143\n",
      "2020-07-26    49134.714286\n",
      "2020-08-02    51845.285714\n",
      "2020-08-09    54290.857143\n",
      "2020-08-16    55503.571429\n",
      "2020-08-23    56105.857143\n",
      "2020-08-30    56580.000000\n",
      "2020-09-06    56912.000000\n",
      "2020-09-13    57229.714286\n",
      "2020-09-20    57523.571429\n",
      "2020-09-27    57653.714286\n",
      "2020-10-04    57773.142857\n",
      "2020-10-11    57848.428571\n",
      "2020-10-18    57894.428571\n",
      "2020-10-25    57942.285714\n",
      "2020-11-01    57995.857143\n",
      "2020-11-08    58040.714286\n",
      "2020-11-15    58097.000000\n",
      "2020-11-22    58139.857143\n",
      "2020-11-29    58192.857143\n",
      "2020-12-06    58238.857143\n",
      "2020-12-13    58297.714286\n",
      "2020-12-20    58372.428571\n",
      "2020-12-27    58488.857143\n",
      "2021-01-03    58603.857143\n",
      "2021-01-10    58810.142857\n",
      "2021-01-17    59020.428571\n",
      "2021-01-24    59219.142857\n",
      "2021-01-31    59432.285714\n",
      "2021-02-07    59628.285714\n",
      "2021-02-14    59760.285714\n",
      "2021-02-21    59835.000000\n",
      "2021-02-28    59903.714286\n",
      "2021-03-07    59991.571429\n",
      "2021-03-14    60062.000000\n",
      "Freq: W-SUN, Name: total, dtype: float64 \n",
      "\n",
      " date\n",
      "2020-01-01        5.300000\n",
      "2020-02-01       61.896552\n",
      "2020-03-01      363.741935\n",
      "2020-04-01     6298.300000\n",
      "2020-05-01    26608.548387\n",
      "2020-06-01    40341.300000\n",
      "2020-07-01    47485.064516\n",
      "2020-08-01    55468.096774\n",
      "2020-09-01    57388.100000\n",
      "2020-10-01    57901.225806\n",
      "2020-11-01    58117.666667\n",
      "2020-12-01    58380.838710\n",
      "2021-01-01    59076.193548\n",
      "2021-02-01    59781.821429\n",
      "2021-03-01    60020.916667\n",
      "Freq: MS, Name: total, dtype: float64\n"
     ]
    }
   ],
   "source": [
    "yW = sg_dataset['total'].resample('W').mean()\n",
    "yMS = sg_dataset['total'].resample('MS').mean()\n",
    "\n",
    "print(yW,\"\\n\\n\",yMS)"
   ]
  },
  {
   "cell_type": "code",
   "execution_count": 27,
   "id": "average-preservation",
   "metadata": {},
   "outputs": [
    {
     "name": "stdout",
     "output_type": "stream",
     "text": [
      "ARIMA(0, 0, 0)x(0, 0, 0, 30)12 - AIC:1438.5748423258108\n",
      "ARIMA(0, 0, 0)x(0, 0, 1, 30)12 - AIC:699.4590530639664\n",
      "ARIMA(0, 0, 0)x(0, 1, 0, 30)12 - AIC:701.6324261775222\n",
      "ARIMA(0, 0, 0)x(0, 1, 1, 30)12 - AIC:4.0\n",
      "ARIMA(0, 0, 0)x(1, 0, 0, 30)12 - AIC:724.4894858342517\n",
      "ARIMA(0, 0, 0)x(1, 0, 1, 30)12 - AIC:701.4590530499092\n",
      "ARIMA(0, 0, 0)x(1, 1, 0, 30)12 - AIC:4.0\n",
      "ARIMA(0, 0, 0)x(1, 1, 1, 30)12 - AIC:6.0\n",
      "ARIMA(0, 0, 1)x(0, 0, 0, 30)12 - AIC:1375.2617693484754\n",
      "ARIMA(0, 0, 1)x(0, 0, 1, 30)12 - AIC:665.6657457704464\n",
      "ARIMA(0, 0, 1)x(0, 1, 0, 30)12 - AIC:654.8311660764274\n",
      "ARIMA(0, 0, 1)x(0, 1, 1, 30)12 - AIC:6.0\n",
      "ARIMA(0, 0, 1)x(1, 0, 0, 30)12 - AIC:713.1835474019307\n",
      "ARIMA(0, 0, 1)x(1, 0, 1, 30)12 - AIC:667.6349375925713\n",
      "ARIMA(0, 0, 1)x(1, 1, 0, 30)12 - AIC:6.0\n",
      "ARIMA(0, 0, 1)x(1, 1, 1, 30)12 - AIC:8.0\n",
      "ARIMA(0, 1, 0)x(0, 0, 0, 30)12 - AIC:1040.5036918302492\n",
      "ARIMA(0, 1, 0)x(0, 0, 1, 30)12 - AIC:360.5741731230766\n",
      "ARIMA(0, 1, 0)x(0, 1, 0, 30)12 - AIC:522.2187269846283\n",
      "ARIMA(0, 1, 0)x(0, 1, 1, 30)12 - AIC:4.0\n",
      "ARIMA(0, 1, 0)x(1, 0, 0, 30)12 - AIC:380.4573769161145\n",
      "ARIMA(0, 1, 0)x(1, 0, 1, 30)12 - AIC:360.285332021617\n",
      "ARIMA(0, 1, 0)x(1, 1, 0, 30)12 - AIC:4.0\n",
      "ARIMA(0, 1, 0)x(1, 1, 1, 30)12 - AIC:6.0\n",
      "ARIMA(0, 1, 1)x(0, 0, 0, 30)12 - AIC:963.7841456163728\n",
      "ARIMA(0, 1, 1)x(0, 0, 1, 30)12 - AIC:317.27085253536114\n",
      "ARIMA(0, 1, 1)x(0, 1, 0, 30)12 - AIC:477.87291051774423\n",
      "ARIMA(0, 1, 1)x(0, 1, 1, 30)12 - AIC:6.0\n",
      "ARIMA(0, 1, 1)x(1, 0, 0, 30)12 - AIC:348.07838768767357\n",
      "ARIMA(0, 1, 1)x(1, 0, 1, 30)12 - AIC:317.4030074475407\n",
      "ARIMA(0, 1, 1)x(1, 1, 0, 30)12 - AIC:6.0\n",
      "ARIMA(0, 1, 1)x(1, 1, 1, 30)12 - AIC:8.0\n",
      "ARIMA(1, 0, 0)x(0, 0, 0, 30)12 - AIC:1052.3026987371436\n",
      "ARIMA(1, 0, 0)x(0, 0, 1, 30)12 - AIC:492.3610029548913\n",
      "ARIMA(1, 0, 0)x(0, 1, 0, 30)12 - AIC:532.4788412777511\n",
      "ARIMA(1, 0, 0)x(0, 1, 1, 30)12 - AIC:6.0\n",
      "ARIMA(1, 0, 0)x(1, 0, 0, 30)12 - AIC:492.3547463748409\n",
      "ARIMA(1, 0, 0)x(1, 0, 1, 30)12 - AIC:494.355780834612\n",
      "ARIMA(1, 0, 0)x(1, 1, 0, 30)12 - AIC:6.0\n",
      "ARIMA(1, 0, 0)x(1, 1, 1, 30)12 - AIC:8.0\n",
      "ARIMA(1, 0, 1)x(0, 0, 0, 30)12 - AIC:976.2392059160331\n",
      "ARIMA(1, 0, 1)x(0, 0, 1, 30)12 - AIC:316.2680727154122\n",
      "ARIMA(1, 0, 1)x(0, 1, 0, 30)12 - AIC:493.93922049258873\n",
      "ARIMA(1, 0, 1)x(0, 1, 1, 30)12 - AIC:8.0\n",
      "ARIMA(1, 0, 1)x(1, 0, 0, 30)12 - AIC:489.6050260531289\n",
      "ARIMA(1, 0, 1)x(1, 0, 1, 30)12 - AIC:474.97390135072493\n",
      "ARIMA(1, 0, 1)x(1, 1, 0, 30)12 - AIC:8.0\n",
      "ARIMA(1, 0, 1)x(1, 1, 1, 30)12 - AIC:10.0\n",
      "ARIMA(1, 1, 0)x(0, 0, 0, 30)12 - AIC:919.9541597792777\n",
      "ARIMA(1, 1, 0)x(0, 0, 1, 30)12 - AIC:292.7636073648441\n",
      "ARIMA(1, 1, 0)x(0, 1, 0, 30)12 - AIC:466.5392513465779\n",
      "ARIMA(1, 1, 0)x(0, 1, 1, 30)12 - AIC:6.0\n",
      "ARIMA(1, 1, 0)x(1, 0, 0, 30)12 - AIC:292.7635880088528\n",
      "ARIMA(1, 1, 0)x(1, 0, 1, 30)12 - AIC:294.76358799870707\n",
      "ARIMA(1, 1, 0)x(1, 1, 0, 30)12 - AIC:6.0\n",
      "ARIMA(1, 1, 0)x(1, 1, 1, 30)12 - AIC:8.0\n",
      "ARIMA(1, 1, 1)x(0, 0, 0, 30)12 - AIC:900.9155524641294\n",
      "ARIMA(1, 1, 1)x(0, 0, 1, 30)12 - AIC:281.9416564024899\n",
      "ARIMA(1, 1, 1)x(0, 1, 0, 30)12 - AIC:450.36196539941096\n",
      "ARIMA(1, 1, 1)x(0, 1, 1, 30)12 - AIC:8.0\n",
      "ARIMA(1, 1, 1)x(1, 0, 0, 30)12 - AIC:293.9467787421895\n",
      "ARIMA(1, 1, 1)x(1, 0, 1, 30)12 - AIC:283.87284996189805\n",
      "ARIMA(1, 1, 1)x(1, 1, 0, 30)12 - AIC:8.0\n",
      "ARIMA(1, 1, 1)x(1, 1, 1, 30)12 - AIC:10.0\n",
      "\n",
      "=====\n",
      "\n",
      "ARIMA(0, 0, 0)x(0, 0, 0, 30)12 - AIC:343.37806478446015\n",
      "ARIMA(0, 0, 0)x(0, 0, 1, 30)12 - AIC:4.0\n",
      "ARIMA(0, 0, 0)x(0, 1, 0, 30)12 - AIC:2.0\n",
      "ARIMA(0, 0, 0)x(0, 1, 1, 30)12 - AIC:4.0\n",
      "ARIMA(0, 0, 0)x(1, 0, 0, 30)12 - AIC:4.0\n",
      "ARIMA(0, 0, 0)x(1, 0, 1, 30)12 - AIC:6.0\n",
      "ARIMA(0, 0, 0)x(1, 1, 0, 30)12 - AIC:4.0\n",
      "ARIMA(0, 0, 0)x(1, 1, 1, 30)12 - AIC:6.0\n",
      "ARIMA(0, 0, 1)x(0, 0, 0, 30)12 - AIC:313.42715361416623\n",
      "ARIMA(0, 0, 1)x(0, 0, 1, 30)12 - AIC:6.0\n",
      "ARIMA(0, 0, 1)x(0, 1, 0, 30)12 - AIC:4.0\n",
      "ARIMA(0, 0, 1)x(0, 1, 1, 30)12 - AIC:6.0\n",
      "ARIMA(0, 0, 1)x(1, 0, 0, 30)12 - AIC:6.0\n",
      "ARIMA(0, 0, 1)x(1, 0, 1, 30)12 - AIC:8.0\n",
      "ARIMA(0, 0, 1)x(1, 1, 0, 30)12 - AIC:6.0\n",
      "ARIMA(0, 0, 1)x(1, 1, 1, 30)12 - AIC:8.0\n",
      "ARIMA(0, 1, 0)x(0, 0, 0, 30)12 - AIC:271.32112286417475\n",
      "ARIMA(0, 1, 0)x(0, 0, 1, 30)12 - AIC:4.0\n",
      "ARIMA(0, 1, 0)x(0, 1, 0, 30)12 - AIC:2.0\n",
      "ARIMA(0, 1, 0)x(0, 1, 1, 30)12 - AIC:4.0\n",
      "ARIMA(0, 1, 0)x(1, 0, 0, 30)12 - AIC:4.0\n",
      "ARIMA(0, 1, 0)x(1, 0, 1, 30)12 - AIC:6.0\n",
      "ARIMA(0, 1, 0)x(1, 1, 0, 30)12 - AIC:4.0\n",
      "ARIMA(0, 1, 0)x(1, 1, 1, 30)12 - AIC:6.0\n",
      "ARIMA(0, 1, 1)x(0, 0, 0, 30)12 - AIC:243.10784068827064\n",
      "ARIMA(0, 1, 1)x(0, 0, 1, 30)12 - AIC:6.0\n",
      "ARIMA(0, 1, 1)x(0, 1, 0, 30)12 - AIC:4.0\n",
      "ARIMA(0, 1, 1)x(0, 1, 1, 30)12 - AIC:6.0\n",
      "ARIMA(0, 1, 1)x(1, 0, 0, 30)12 - AIC:6.0\n",
      "ARIMA(0, 1, 1)x(1, 0, 1, 30)12 - AIC:8.0\n",
      "ARIMA(0, 1, 1)x(1, 1, 0, 30)12 - AIC:6.0\n",
      "ARIMA(0, 1, 1)x(1, 1, 1, 30)12 - AIC:8.0\n",
      "ARIMA(1, 0, 0)x(0, 0, 0, 30)12 - AIC:291.6015124689156\n",
      "ARIMA(1, 0, 0)x(0, 0, 1, 30)12 - AIC:6.0\n",
      "ARIMA(1, 0, 0)x(0, 1, 0, 30)12 - AIC:4.0\n",
      "ARIMA(1, 0, 0)x(0, 1, 1, 30)12 - AIC:6.0\n",
      "ARIMA(1, 0, 0)x(1, 0, 0, 30)12 - AIC:6.0\n",
      "ARIMA(1, 0, 0)x(1, 0, 1, 30)12 - AIC:8.0\n",
      "ARIMA(1, 0, 0)x(1, 1, 0, 30)12 - AIC:6.0\n",
      "ARIMA(1, 0, 0)x(1, 1, 1, 30)12 - AIC:8.0\n",
      "ARIMA(1, 0, 1)x(0, 0, 0, 30)12 - AIC:264.51755903621637\n",
      "ARIMA(1, 0, 1)x(0, 0, 1, 30)12 - AIC:8.0\n",
      "ARIMA(1, 0, 1)x(0, 1, 0, 30)12 - AIC:6.0\n",
      "ARIMA(1, 0, 1)x(0, 1, 1, 30)12 - AIC:8.0\n",
      "ARIMA(1, 0, 1)x(1, 0, 0, 30)12 - AIC:8.0\n",
      "ARIMA(1, 0, 1)x(1, 0, 1, 30)12 - AIC:10.0\n",
      "ARIMA(1, 0, 1)x(1, 1, 0, 30)12 - AIC:8.0\n",
      "ARIMA(1, 0, 1)x(1, 1, 1, 30)12 - AIC:10.0\n",
      "ARIMA(1, 1, 0)x(0, 0, 0, 30)12 - AIC:262.1792069765996\n",
      "ARIMA(1, 1, 0)x(0, 0, 1, 30)12 - AIC:6.0\n",
      "ARIMA(1, 1, 0)x(0, 1, 0, 30)12 - AIC:4.0\n",
      "ARIMA(1, 1, 0)x(0, 1, 1, 30)12 - AIC:6.0\n",
      "ARIMA(1, 1, 0)x(1, 0, 0, 30)12 - AIC:6.0\n",
      "ARIMA(1, 1, 0)x(1, 0, 1, 30)12 - AIC:8.0\n",
      "ARIMA(1, 1, 0)x(1, 1, 0, 30)12 - AIC:6.0\n",
      "ARIMA(1, 1, 0)x(1, 1, 1, 30)12 - AIC:8.0\n",
      "ARIMA(1, 1, 1)x(0, 0, 0, 30)12 - AIC:243.59682615107732\n",
      "ARIMA(1, 1, 1)x(0, 0, 1, 30)12 - AIC:8.0\n",
      "ARIMA(1, 1, 1)x(0, 1, 0, 30)12 - AIC:6.0\n",
      "ARIMA(1, 1, 1)x(0, 1, 1, 30)12 - AIC:8.0\n",
      "ARIMA(1, 1, 1)x(1, 0, 0, 30)12 - AIC:8.0\n",
      "ARIMA(1, 1, 1)x(1, 0, 1, 30)12 - AIC:10.0\n",
      "ARIMA(1, 1, 1)x(1, 1, 0, 30)12 - AIC:8.0\n",
      "ARIMA(1, 1, 1)x(1, 1, 1, 30)12 - AIC:10.0\n"
     ]
    }
   ],
   "source": [
    "for paramW in pdqW:\n",
    "    for param_seasonalW in seasonal_pdqW:\n",
    "        try:\n",
    "            modW = sm.tsa.statespace.SARIMAX(yW,\n",
    "                                            order=paramW,\n",
    "                                            seasonal_order=param_seasonalW,\n",
    "                                            enforce_stationarity=False,\n",
    "                                            enforce_invertibility=False)\n",
    "            resultsW = modW.fit()\n",
    "\n",
    "            print('ARIMA{}x{}12 - AIC:{}'.format(paramW, param_seasonalW, resultsW.aic))\n",
    "        except:\n",
    "            continue\n",
    "\n",
    "print(\"\\n=====\\n\")\n",
    "\n",
    "for paramMS in pdqMS:\n",
    "    for param_seasonalMS in seasonal_pdqMS:\n",
    "        try:\n",
    "            modMS = sm.tsa.statespace.SARIMAX(yMS,\n",
    "                                            order=paramMS,\n",
    "                                            seasonal_order=param_seasonalMS,\n",
    "                                            enforce_stationarity=False,\n",
    "                                            enforce_invertibility=False)\n",
    "            resultsMS = modMS.fit()\n",
    "\n",
    "            print('ARIMA{}x{}12 - AIC:{}'.format(paramMS, param_seasonalMS, resultsMS.aic))\n",
    "        except:\n",
    "            continue            "
   ]
  },
  {
   "cell_type": "code",
   "execution_count": 28,
   "id": "acoustic-integration",
   "metadata": {},
   "outputs": [
    {
     "name": "stdout",
     "output_type": "stream",
     "text": [
      "==============================================================================\n",
      "                 coef    std err          z      P>|z|      [0.025      0.975]\n",
      "------------------------------------------------------------------------------\n",
      "ar.L1          0.8877      0.051     17.327      0.000       0.787       0.988\n",
      "ma.L1          0.4092      0.098      4.161      0.000       0.216       0.602\n",
      "sigma2       3.75e+05   2.77e+04     13.544      0.000    3.21e+05    4.29e+05\n",
      "==============================================================================\n",
      "==============================================================================\n",
      "                 coef    std err          z      P>|z|      [0.025      0.975]\n",
      "------------------------------------------------------------------------------\n",
      "ar.L1          0.5500      0.198      2.781      0.005       0.162       0.938\n",
      "ma.L1          1.9815      0.295      6.706      0.000       1.402       2.561\n",
      "sigma2      5.126e+06   5.79e-08   8.85e+13      0.000    5.13e+06    5.13e+06\n",
      "==============================================================================\n"
     ]
    }
   ],
   "source": [
    "modelW=sm.tsa.statespace.SARIMAX(yW,order=(1, 1, 1),seasonal_order=(0,0,0,12), enforce_invertibility=False)\n",
    "resultsW=modelW.fit()\n",
    "\n",
    "print(resultsW.summary().tables[1])\n",
    "\n",
    "modelMS=sm.tsa.statespace.SARIMAX(yMS,order=(1, 1, 1),seasonal_order=(0,0,0,12), enforce_invertibility=False)\n",
    "resultsMS=modelMS.fit()\n",
    "\n",
    "print(resultsMS.summary().tables[1])"
   ]
  },
  {
   "cell_type": "code",
   "execution_count": 29,
   "id": "amino-luxury",
   "metadata": {},
   "outputs": [
    {
     "data": {
      "image/png": "[encoded data removed]",
      "text/plain": [
       "<Figure size 1008x504 with 1 Axes>"
      ]
     },
     "metadata": {
      "needs_background": "light"
     },
     "output_type": "display_data"
    }
   ],
   "source": [
    "predW = resultsW.get_prediction(start=pd.to_datetime('2020-09-06'), dynamic=False)\n",
    "pred_ci = predW.conf_int()\n",
    "ax = yW['2020':].plot(label='observed')\n",
    "predW.predicted_mean.plot(ax=ax, label='One-step ahead Forecast', alpha=.7, figsize=(14, 7))\n",
    "ax.fill_between(pred_ci.index,\n",
    "                pred_ci.iloc[:, 0],\n",
    "                pred_ci.iloc[:, 1], color='k', alpha=.2)\n",
    "ax.set_xlabel('Month')\n",
    "ax.set_ylabel('Cases')\n",
    "#plt.ylim(0, 40)\n",
    "plt.legend()\n",
    "plt.show()"
   ]
  },
  {
   "cell_type": "code",
   "execution_count": 30,
   "id": "absent-cooperation",
   "metadata": {},
   "outputs": [
    {
     "data": {
      "image/png": "[encoded data removed]",
      "text/plain": [
       "<Figure size 1008x504 with 1 Axes>"
      ]
     },
     "metadata": {
      "needs_background": "light"
     },
     "output_type": "display_data"
    }
   ],
   "source": [
    "predMS = resultsMS.get_prediction(start=pd.to_datetime('2020-09-01'), dynamic=False)\n",
    "pred_ci = predMS.conf_int()\n",
    "ax = yMS['2020':].plot(label='observed')\n",
    "predMS.predicted_mean.plot(ax=ax, label='One-step ahead Forecast', alpha=.7, figsize=(14, 7))\n",
    "ax.fill_between(pred_ci.index,\n",
    "                pred_ci.iloc[:, 0],\n",
    "                pred_ci.iloc[:, 1], color='k', alpha=.2)\n",
    "ax.set_xlabel('Month')\n",
    "ax.set_ylabel('Cases')\n",
    "#plt.ylim(0, 70000)\n",
    "plt.legend()\n",
    "plt.show()"
   ]
  },
  {
   "cell_type": "markdown",
   "id": "terminal-cannon",
   "metadata": {},
   "source": [
    "# Future prediction"
   ]
  },
  {
   "cell_type": "markdown",
   "id": "chronic-episode",
   "metadata": {},
   "source": [
    "# Producing and visualizing forecasts"
   ]
  },
  {
   "cell_type": "code",
   "execution_count": 31,
   "id": "established-enough",
   "metadata": {},
   "outputs": [
    {
     "name": "stdout",
     "output_type": "stream",
     "text": [
      "The Mean Squared Error of our forecasts(WEEKLY) is 1887.22\n",
      "The Mean Squared Error of our forecasts(MONTHLY) is 2801812.18\n"
     ]
    }
   ],
   "source": [
    "y_forecasted = predW.predicted_mean\n",
    "y_truth = yW['2020-09-06':]\n",
    "mseW = ((y_forecasted - y_truth) ** 2).mean()\n",
    "print('The Mean Squared Error of our forecasts(WEEKLY) is {}'.format(round(mseW, 2)))\n",
    "\n",
    "y_forecasted = predMS.predicted_mean\n",
    "y_truth = yMS['2020-09-01':]\n",
    "mseMS = ((y_forecasted - y_truth) ** 2).mean()\n",
    "print('The Mean Squared Error of our forecasts(MONTHLY) is {}'.format(round(mseMS, 2)))"
   ]
  },
  {
   "cell_type": "code",
   "execution_count": 32,
   "id": "growing-communications",
   "metadata": {},
   "outputs": [
    {
     "name": "stdout",
     "output_type": "stream",
     "text": [
      "The Root Mean Squared Error of our forecasts is 43.44\n",
      "The Root Mean Squared Error of our forecasts is 1673.86\n"
     ]
    }
   ],
   "source": [
    "print('The Root Mean Squared Error of our forecasts is {}'.format(round(np.sqrt(mseW), 2)))\n",
    "print('The Root Mean Squared Error of our forecasts is {}'.format(round(np.sqrt(mseMS), 2)))"
   ]
  },
  {
   "cell_type": "code",
   "execution_count": 33,
   "id": "restricted-aside",
   "metadata": {},
   "outputs": [
    {
     "data": {
      "image/png": "[encoded data removed]",
      "text/plain": [
       "<Figure size 1008x504 with 1 Axes>"
      ]
     },
     "metadata": {
      "needs_background": "light"
     },
     "output_type": "display_data"
    },
    {
     "data": {
      "image/png": "[encoded data removed]",
      "text/plain": [
       "<Figure size 1008x504 with 1 Axes>"
      ]
     },
     "metadata": {
      "needs_background": "light"
     },
     "output_type": "display_data"
    }
   ],
   "source": [
    "pred_uc = resultsW.get_forecast(steps=30)\n",
    "pred_ci = pred_uc.conf_int()\n",
    "ax = yW.plot(label='observed', figsize=(14, 7))\n",
    "pred_uc.predicted_mean.plot(ax=ax, label='Forecast')\n",
    "ax.fill_between(pred_ci.index,\n",
    "                pred_ci.iloc[:, 0],\n",
    "                pred_ci.iloc[:, 1], color='k', alpha=.25)\n",
    "ax.set_xlabel('Month')\n",
    "ax.set_ylabel('Number of Cases')\n",
    "plt.ylim(0, 120000)\n",
    "plt.legend()\n",
    "plt.show()\n",
    "\n",
    "pred_uc = resultsMS.get_forecast(steps=30)\n",
    "pred_ci = pred_uc.conf_int()\n",
    "ax = yMS.plot(label='observed', figsize=(14, 7))\n",
    "pred_uc.predicted_mean.plot(ax=ax, label='Forecast')\n",
    "ax.fill_between(pred_ci.index,\n",
    "                pred_ci.iloc[:, 0],\n",
    "                pred_ci.iloc[:, 1], color='k', alpha=.25)\n",
    "ax.set_xlabel('Month')\n",
    "ax.set_ylabel('Number of Cases')\n",
    "plt.ylim(0, 200000)\n",
    "plt.legend()\n",
    "plt.show()"
   ]
  }
 ],
 "metadata": {
  "kernelspec": {
   "display_name": "Python 3",
   "language": "python",
   "name": "python3"
  },
  "language_info": {
   "codemirror_mode": {
    "name": "ipython",
    "version": 3
   },
   "file_extension": ".py",
   "mimetype": "text/x-python",
   "name": "python",
   "nbconvert_exporter": "python",
   "pygments_lexer": "ipython3",
   "version": "3.7.9"
  }
 },
 "nbformat": 4,
 "nbformat_minor": 5
}
